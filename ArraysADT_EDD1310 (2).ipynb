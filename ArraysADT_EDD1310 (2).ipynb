{
  "nbformat": 4,
  "nbformat_minor": 0,
  "metadata": {
    "colab": {
      "name": "ArraysADT_EDD1310.ipynb",
      "provenance": []
    },
    "kernelspec": {
      "name": "python3",
      "display_name": "Python 3"
    },
    "language_info": {
      "name": "python"
    }
  },
  "cells": [
    {
      "cell_type": "markdown",
      "metadata": {
        "id": "CyhSiDCzfv48"
      },
      "source": [
        ""
      ]
    },
    {
      "cell_type": "code",
      "metadata": {
        "colab": {
          "base_uri": "https://localhost:8080/"
        },
        "id": "-1hMoRPmfmRu",
        "outputId": "9080b290-55f9-445d-baf2-b67cd5c24237"
      },
      "source": [
        "class Array:\n",
        "    def __init__( self, tam ):\n",
        "        self.__tamanio = tam\n",
        "        self.__data = [ 0 for x in range(self.__tamanio) ]\n",
        "\n",
        "    # metodo concatena tod0 y lo regresa al final\n",
        "    def to_string( self ):\n",
        "        info = \"\"\n",
        "        for dato in self.__data:\n",
        "            info = info + str(dato) + \"|\"\n",
        "        return info\n",
        "\n",
        "    def get_item(self , index ):\n",
        "        return self.__data[index]\n",
        "# regresa el valor \n",
        "    def get_length( self):\n",
        "        return len( self.__data )\n",
        "\n",
        "    def set_item (self , dato , index):\n",
        "        # hace falta revisar los limites, para eso se hace con un if , para que no salga el error out of range\n",
        "        if index >= 0 and index < self.get_length():\n",
        "            self.__data[index] = dato\n",
        "        else:\n",
        "            print(\"Error: indice fuera de rango\")\n",
        "\n",
        "    def clear ( self , dato ):\n",
        "        self.__data = [ dato for x in range(self.__tamanio) ] \n",
        "    \n",
        "    \n",
        "\n",
        "\n",
        "ejemplo = Array(20)\n",
        "print( ejemplo.to_string())\n",
        "print( ejemplo.get_item(2) )\n",
        "ejemplo.set_item( 45 , 2 )\n",
        "print( ejemplo.to_string())\n",
        "ejemplo.clear( 4 )\n",
        "print(ejemplo.to_string())\n",
        "print(ejemplo.get_length())\n",
        "\n"
      ],
      "execution_count": 1,
      "outputs": [
        {
          "output_type": "stream",
          "name": "stdout",
          "text": [
            "0|0|0|0|0|0|0|0|0|0|0|0|0|0|0|0|0|0|0|0|\n",
            "0\n",
            "0|0|45|0|0|0|0|0|0|0|0|0|0|0|0|0|0|0|0|0|\n",
            "4|4|4|4|4|4|4|4|4|4|4|4|4|4|4|4|4|4|4|4|\n",
            "20\n"
          ]
        }
      ]
    },
    {
      "cell_type": "code",
      "metadata": {
        "colab": {
          "base_uri": "https://localhost:8080/"
        },
        "id": "DG1cunzWgdLN",
        "outputId": "4a732725-9d54-4d5f-e7c1-a69ed758b34b"
      },
      "source": [
        "# Ejemplo del generador de arriba\n",
        "lista = [ 3 * x for x in range(10)]\n",
        "print(lista)"
      ],
      "execution_count": null,
      "outputs": [
        {
          "output_type": "stream",
          "name": "stdout",
          "text": [
            "[0, 3, 6, 9, 12, 15, 18, 21, 24, 27]\n"
          ]
        }
      ]
    },
    {
      "cell_type": "markdown",
      "metadata": {
        "id": "n4ZcdhsrlVAF"
      },
      "source": [
        "La carpeta de datos es volatil...\n"
      ]
    },
    {
      "cell_type": "code",
      "metadata": {
        "colab": {
          "base_uri": "https://localhost:8080/"
        },
        "id": "f0AJuMlLlIMZ",
        "outputId": "60061d61-238d-4471-c1b2-6effbd1488b4"
      },
      "source": [
        "!cat junio.dat"
      ],
      "execution_count": 7,
      "outputs": [
        {
          "output_type": "stream",
          "name": "stdout",
          "text": [
            "numero de trabajador, nombres, paterno, materno, horas extra, sueldo base, año de ingreso\r\n",
            "2345,CARLOS,PEREZ,CASTILLO,0,9850,2017\r\n",
            "5754,ANGEL,GOMEZ,GARRIDO,1,9850,2020\r\n",
            "5345,JESUS,MARTIN,SANTOS,2,9850,2016\r\n",
            "3267,DAVID,JIMENEZ,LOZANO,2,9850,2017\r\n",
            "8765,PEDRO,RUIZ,GUERRERO,2,9850,2017\r\n",
            "5454,DANIEL,HERNANDEZ,CANO,3,9850,2018\r\n",
            "3456,ALEJANDRO,DIAZ,PRIETO,2,9850,2018\r\n",
            "3445,MARIA,MORENO,MENDEZ,1,9850,2018\r\n",
            "9088,ALBERTO,MU�OZ,CRUZ,1,9850,2017\r\n",
            "8877,RAFAEL,ALVAREZ,FLORES,2,9850,2017\r\n",
            "6767,FERNANDO,ROMERO,HERRERA,4,9850,2019\r\n",
            "5654,PABLO,ALONSO,GALLEGO,1,9850,2019\r\n",
            "4323,JORGE,GUTIERREZ,MARQUEZ,2,9850,2020\r\n",
            "2232,RAMON,NAVARRO,LEON,1,9850,2016"
          ]
        }
      ]
    },
    {
      "cell_type": "code",
      "metadata": {
        "colab": {
          "base_uri": "https://localhost:8080/"
        },
        "id": "UbtMGKlsm8Ql",
        "outputId": "a84df404-3995-4967-d096-9fc819d0c33f"
      },
      "source": [
        "archivo = open(\"junio.dat\", 'rt', encoding = 'latin-1')\n",
        "print(archivo.read())"
      ],
      "execution_count": 10,
      "outputs": [
        {
          "output_type": "stream",
          "name": "stdout",
          "text": [
            "numero de trabajador, nombres, paterno, materno, horas extra, sueldo base, aÃ±o de ingreso\n",
            "2345,CARLOS,PEREZ,CASTILLO,0,9850,2017\n",
            "5754,ANGEL,GOMEZ,GARRIDO,1,9850,2020\n",
            "5345,JESUS,MARTIN,SANTOS,2,9850,2016\n",
            "3267,DAVID,JIMENEZ,LOZANO,2,9850,2017\n",
            "8765,PEDRO,RUIZ,GUERRERO,2,9850,2017\n",
            "5454,DANIEL,HERNANDEZ,CANO,3,9850,2018\n",
            "3456,ALEJANDRO,DIAZ,PRIETO,2,9850,2018\n",
            "3445,MARIA,MORENO,MENDEZ,1,9850,2018\n",
            "9088,ALBERTO,MUOZ,CRUZ,1,9850,2017\n",
            "8877,RAFAEL,ALVAREZ,FLORES,2,9850,2017\n",
            "6767,FERNANDO,ROMERO,HERRERA,4,9850,2019\n",
            "5654,PABLO,ALONSO,GALLEGO,1,9850,2019\n",
            "4323,JORGE,GUTIERREZ,MARQUEZ,2,9850,2020\n",
            "2232,RAMON,NAVARRO,LEON,1,9850,2016\n"
          ]
        }
      ]
    },
    {
      "cell_type": "code",
      "metadata": {
        "id": "pIcJ9wgqn4a0"
      },
      "source": [
        "class trabajador:\n",
        "    def __init__(self, nt,nom, pat, mat,he,sb,ai):\n",
        "        self.__numero_trabajador = nt\n",
        "        self-__nombres  = nom\n",
        "        self.__apellido_paterno = pat\n",
        "        self.__apellido_materno = mat\n",
        "        self.__horas_extra = he\n",
        "        self.__sueldo_base = sb\n",
        "        self.__año_ingreso = ai\n",
        "        # asi como el renglon de arriba para todos los atributos\n",
        "\n",
        "    # aqui van todos los metodos de acceso\n",
        "    def set_numero_trabajador(self, nt):\n",
        "        self.__numero_trabajador = nt\n",
        "\n",
        "    # metoods de uso general,---> hacen claculos de la logica de negocio\n",
        "    \n",
        "\n"
      ],
      "execution_count": null,
      "outputs": []
    },
    {
      "cell_type": "code",
      "metadata": {
        "id": "AD52VLSqqBfQ"
      },
      "source": [
        "class NominaADT:\n",
        "    def __init__( self, ruta_archivo ):\n",
        "        # va a abrir el archivo y determinar el numero de empleados, es decir el numero de lineas lo va a meter en --> num emp\n",
        "        self.__data = Array( num_emp )\n",
        "\n",
        "        def calcular_sueldos(self):\n",
        "            # va a iterar sobre el array y hacer el calculo de sueldos\n",
        "\n",
        "        def buscar_mas_antiguo(self):\n",
        "            # este va a iterar y buscara en el arrya el de mayor antiguedad\n",
        "\n",
        "        def buscar_menor_antiguedad(self):\n",
        "            # de igual forma tienes qu ehacer lo mismo de arriba pero para el menor\n",
        "\n",
        "\n"
      ],
      "execution_count": null,
      "outputs": []
    },
    {
      "cell_type": "code",
      "metadata": {
        "colab": {
          "base_uri": "https://localhost:8080/"
        },
        "id": "dv1pz8-_r9EJ",
        "outputId": "e1aec4e8-829a-4219-ebcc-2f3dc8d18628"
      },
      "source": [
        "sueldo_base = 100\n",
        "anio = 2019\n",
        "anti = 2\n",
        "prestacion = 100 * (2*0.03)\n",
        "print(sueldo_base + prestacion)\n",
        "\n"
      ],
      "execution_count": 12,
      "outputs": [
        {
          "output_type": "stream",
          "name": "stdout",
          "text": [
            "106.0\n"
          ]
        }
      ]
    }
  ]
}